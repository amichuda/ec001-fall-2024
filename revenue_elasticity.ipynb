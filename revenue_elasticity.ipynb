{
 "cells": [
  {
   "cell_type": "code",
   "execution_count": 94,
   "metadata": {},
   "outputs": [],
   "source": [
    "import matplotlib.pyplot as plt\n",
    "import matplotlib as mpl\n",
    "from ipywidgets import interact\n",
    "import ipywidgets\n",
    "import numpy as np"
   ]
  },
  {
   "cell_type": "code",
   "execution_count": 105,
   "metadata": {},
   "outputs": [],
   "source": [
    "def generate_demand(slope):\n",
    "    q = np.linspace(0,100/slope, 100)\n",
    "    p = 10-slope*q\n",
    "\n",
    "    return p, q\n",
    "    \n"
   ]
  },
  {
   "cell_type": "code",
   "execution_count": 124,
   "metadata": {},
   "outputs": [
    {
     "data": {
      "text/plain": [
       "array([ 0.,  1.,  2.,  3.,  4.,  5.,  6.,  7.,  8.,  9., 10., 11., 12.,\n",
       "       13., 14., 15., 16., 17., 18., 19., 20., 21., 22., 23., 24., 25.,\n",
       "       26., 27., 28., 29., 30., 31., 32., 33., 34., 35., 36., 37., 38.,\n",
       "       39., 40., 41., 42., 43., 44., 45., 46., 47., 48., 49., 50., 51.,\n",
       "       52., 53., 54., 55., 56., 57., 58., 59., 60., 61., 62., 63., 64.,\n",
       "       65., 66., 67., 68., 69., 70., 71., 72., 73., 74., 75., 76., 77.,\n",
       "       78., 79., 80., 81., 82., 83., 84., 85., 86., 87., 88., 89., 90.,\n",
       "       91., 92., 93., 94., 95., 96., 97., 98., 99.])"
      ]
     },
     "execution_count": 124,
     "metadata": {},
     "output_type": "execute_result"
    }
   ],
   "source": [
    "q"
   ]
  },
  {
   "cell_type": "code",
   "execution_count": 130,
   "metadata": {},
   "outputs": [
    {
     "data": {
      "application/vnd.jupyter.widget-view+json": {
       "model_id": "7ea1ff94fa5242a69aeba5ffd4578a08",
       "version_major": 2,
       "version_minor": 0
      },
      "text/plain": [
       "interactive(children=(FloatSlider(value=1.0, description='slope', max=10.0, min=0.1), IntSlider(value=0, descr…"
      ]
     },
     "metadata": {},
     "output_type": "display_data"
    }
   ],
   "source": [
    "@interact(slope=ipywidgets.FloatSlider(min=.1, max=10, value=1, step=.1), \n",
    "          initial_price=ipywidgets.IntSlider(min=0, max=99), \n",
    "          new_price=ipywidgets.IntSlider(min=0, max=99)\n",
    "          )\n",
    "def elast_graph(slope, initial_price, new_price):\n",
    "    fig, (ax,rev) = plt.subplots(2,1, sharex=True)\n",
    "\n",
    "    p,q = generate_demand(slope)\n",
    "\n",
    "    ax.plot(q,p)\n",
    "\n",
    "    ax.set_xlim([0,10])\n",
    "    ax.set_ylim([0,10])\n",
    "\n",
    "    revenue_0 = mpl.patches.Rectangle(  \n",
    "        (0,0), q[initial_price], p[initial_price], edgecolor='tab:red', facecolor=None, fill=False, hatch='/'\n",
    "    )\n",
    "\n",
    "    revenue_1 = mpl.patches.Rectangle(\n",
    "        (0,0), q[new_price], p[new_price], edgecolor='tab:green', facecolor=None, fill=False, hatch='/'\n",
    "    )\n",
    "    \n",
    "    rev.plot(q, p*q, color='tab:red')\n",
    "\n",
    "    ax.add_patch(revenue_0)\n",
    "    ax.add_patch(revenue_1)\n",
    "    \n",
    "    rev.set_ylim([0,(p*q).max()])\n",
    "        \n",
    "    print(f\"Change in Revenue is: {(p[new_price]*q[new_price]) -( p[initial_price]*q[initial_price])}\")\n",
    "\n"
   ]
  }
 ],
 "metadata": {
  "kernelspec": {
   "display_name": "Python 3",
   "language": "python",
   "name": "python3"
  },
  "language_info": {
   "codemirror_mode": {
    "name": "ipython",
    "version": 3
   },
   "file_extension": ".py",
   "mimetype": "text/x-python",
   "name": "python",
   "nbconvert_exporter": "python",
   "pygments_lexer": "ipython3",
   "version": "3.11.9"
  }
 },
 "nbformat": 4,
 "nbformat_minor": 2
}
